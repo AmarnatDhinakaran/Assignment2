{
 "cells": [
  {
   "cell_type": "markdown",
   "metadata": {},
   "source": [
    "## Problem Statement"
   ]
  },
  {
   "cell_type": "markdown",
   "metadata": {},
   "source": [
    "Q.1 Write a Python Program to implement your own myreduce() function which works exactly like\n",
    "Python's built-in function reduce()\n"
   ]
  },
  {
   "cell_type": "code",
   "execution_count": 7,
   "metadata": {},
   "outputs": [
    {
     "name": "stdout",
     "output_type": "stream",
     "text": [
      "List of items in the list : [1, 2, 3, 4]\n"
     ]
    },
    {
     "data": {
      "text/plain": [
       "'Total sum is: 10'"
      ]
     },
     "execution_count": 7,
     "metadata": {},
     "output_type": "execute_result"
    }
   ],
   "source": [
    "import functools as fs\n",
    "def myreduce(n):\n",
    "  #n= int(input(\"Please enter the list of elements u want : \"))\n",
    "  lst=list((range(1,n)))\n",
    "  print(\"List of items in the list : {}\".format(lst))\n",
    "  result=(fs.reduce(lambda x,y:x+y,lst))\n",
    "  return(\"Total sum is: {}\".format(result))\n",
    "myreduce(5)\n"
   ]
  },
  {
   "cell_type": "code",
   "execution_count": 3,
   "metadata": {},
   "outputs": [
    {
     "name": "stdout",
     "output_type": "stream",
     "text": [
      "Enter the no of items u want : 4\n"
     ]
    },
    {
     "data": {
      "text/plain": [
       "6"
      ]
     },
     "execution_count": 3,
     "metadata": {},
     "output_type": "execute_result"
    }
   ],
   "source": [
    "# List to perform arithmetic operations\n",
    "val=int(input(\"Enter the no of items u want : \"))\n",
    "lst=list((range(1,val)))\n",
    "#print(\"Your list is created,now executing your function!\")\n",
    "\n",
    "#Sum function\n",
    "def sum_fn(x1,x2):\n",
    "  return x1+x2\n",
    "\n",
    "#Multiplication function\n",
    "def mul_fn(x1,x2):\n",
    "  return(x2*x1)\n",
    "\n",
    "#Custom reduce function\n",
    "def myreduce(funct,itr):\n",
    "  first=itr[0]\n",
    "  for i in itr[1:]:\n",
    "    first=funct(first,i)\n",
    "  return first\n",
    "\n",
    "#Calling myreduce function to perform multiplication operation\n",
    "myreduce(mul_fn,lst)\n",
    "#myreduce(sum_fn,lst)"
   ]
  },
  {
   "cell_type": "markdown",
   "metadata": {},
   "source": [
    "Q.2 Write a Python program to implement your own myfilter() function which works exactly like\n",
    "Python's built-in function filter()"
   ]
  },
  {
   "cell_type": "code",
   "execution_count": 8,
   "metadata": {},
   "outputs": [
    {
     "name": "stdout",
     "output_type": "stream",
     "text": [
      "Filter only positive Integers on list [0,1,-2,3,4,5] using custom filter function[1, 3, 4, 5]\n"
     ]
    }
   ],
   "source": [
    "def myfilter(anyfunc, sequence):\n",
    "\n",
    " # Initialize empty list\n",
    " result = []\n",
    " # iterate over sequence of items in sequence and apply filter function\n",
    " for item in sequence:\n",
    "  if anyfunc(item):\n",
    "   result.append(item)\n",
    " # return funal output\n",
    " return result\n",
    "\n",
    "def ispositive(x):\n",
    " if (x <= 0): \n",
    "  return False \n",
    " else: \n",
    "  return True\n",
    "\n",
    "print (\"Filter only positive Integers on list [0,1,-2,3,4,5] using custom filter function\"  + str(myfilter(ispositive, [0,1,-2,3,4,5])))"
   ]
  },
  {
   "cell_type": "markdown",
   "metadata": {},
   "source": [
    "Q.3 Implement List comprehensions to produce the following lists.\n",
    "   Write List comprehensions to produce the following Lists\n",
    "   \n",
    "    ['A', 'C', 'A', 'D', 'G', 'I', ’L’, ‘ D’]\n",
    "   \n",
    "    ['x', 'xx', 'xxx', 'xxxx', 'y', 'yy', 'yyy', 'yyyy', 'z', 'zz', 'zzz', 'zzzz']\n",
    "\n",
    "    ['x', 'y', 'z', 'xx', 'yy', 'zz', 'xx', 'yy', 'zz', 'xxxx', 'yyyy', 'zzzz']\n",
    "    \n",
    "    [[2], [3], [4], [3], [4], [5], [4], [5], [6]]\n",
    "\n",
    "    [[2, 3, 4, 5], [3, 4, 5, 6], [4, 5, 6, 7], [5, 6, 7, 8]]\n",
    "\n",
    "    [(1, 1), (2, 1), (3, 1), (1, 2), (2, 2), (3, 2), (1, 3), (2, 3), (3, 3)]"
   ]
  },
  {
   "cell_type": "code",
   "execution_count": 22,
   "metadata": {},
   "outputs": [
    {
     "name": "stdout",
     "output_type": "stream",
     "text": [
      "['A', 'C', 'A', 'D', 'G', 'I', 'L', 'D']\n",
      "\n",
      "['x', 'xx', 'xxx', 'xxxx', 'y', 'yy', 'yyy', 'yyyy', 'z', 'zz', 'zzz', 'zzzz']\n",
      "\n",
      "['x', 'y', 'z', 'xx', 'yy', 'zz', 'xxx', 'yyy', 'zzz', 'xxxx', 'yyyy', 'zzzz']\n",
      "\n",
      "[[2], [3], [4], [3], [4], [5], [4], [5], [6]]\n",
      "\n",
      "[[2, 3, 4, 5], [3, 4, 5, 6], [4, 5, 6, 7], [5, 6, 7, 8]]\n",
      "\n",
      "[(1, 1), (2, 1), (3, 1), (1, 2), (2, 2), (3, 2), (1, 3), (2, 3), (3, 3)]\n"
     ]
    }
   ],
   "source": [
    "word_list = \"ACADGILD\"\n",
    "alphabet_list = [ alphabet for alphabet in word_list ]\n",
    "print (\"{}\".format(alphabet_list))\n",
    "\n",
    "xyz_list = ['x','y','z']\n",
    "result =[ item*num for item in xyz_list for num in range(1,5)]\n",
    "print(\"\\n{}\".format(result))\n",
    "\n",
    "result1 = [ item*num for num in range(1,5) for item in xyz_list  ]\n",
    "print(\"\\n{}\".format(result1))\n",
    "\n",
    "num_list = [2,3,4]\n",
    "result3 = [ [i+j] for i in num_list for j in range(0,3)]\n",
    "print(\"\\n{}\".format(result3))\n",
    "\n",
    "num_list_new = [2,3,4,5]\n",
    "result4 = [ [i+j for i in num_list_new] for j in range(0,4)]\n",
    "print(\"\\n{}\".format(result4))\n",
    "\n",
    "num_list1=[1,2,3]\n",
    "result5 = [(j,i) for i in num_list1 for j in num_list1]\n",
    "print(\"\\n{}\".format(result5))\n"
   ]
  },
  {
   "cell_type": "markdown",
   "metadata": {},
   "source": [
    "Q.4 Implement a function longestWord() that takes a list of words and returns the longest one."
   ]
  },
  {
   "cell_type": "code",
   "execution_count": 30,
   "metadata": {},
   "outputs": [
    {
     "name": "stdout",
     "output_type": "stream",
     "text": [
      "Please enter the list of words to find out the longest one : SubadraRanganayaki Dhinakaran\n",
      "Your sentence:SubadraRanganayaki Dhinakaran \n",
      "The longest word in the sentence is SubadraRanganayaki with length : 18 \n"
     ]
    }
   ],
   "source": [
    "def longestword():\n",
    "    user_val=input(\"Please enter the list of words to find out the longest one : \")\n",
    "    lgst_wrd=0\n",
    "    for w in user_val.split():\n",
    "        if len(w)>lgst_wrd:\n",
    "            lgst_wrd=len(w)\n",
    "            lgst_wrd_new=w\n",
    "    print(\"Your sentence : {} \\nThe longest word in the sentence is {} with length : {} \" .format(user_val,lgst_wrd_new,len(lgst_wrd_new))) \n",
    "    \n",
    "longestword()"
   ]
  },
  {
   "cell_type": "markdown",
   "metadata": {},
   "source": [
    "Q.5 Write a Python Program(with class concepts) to find the area of the triangle using the below\n",
    "formula.\n",
    "\n",
    "area = (s*(s-a)*(s-b)*(s-c)) ** 0.5\n",
    "\n",
    "Function to take the length of the sides of triangle from user should be defined in the parent\n",
    "class and function to calculate the area should be defined in subclass."
   ]
  },
  {
   "cell_type": "code",
   "execution_count": 39,
   "metadata": {},
   "outputs": [
    {
     "name": "stdout",
     "output_type": "stream",
     "text": [
      "Please enter the first side of a triangle: 7\n",
      "Please enter the second side of a triangle: 7\n",
      "Please enter the third side of a triangle: 7\n",
      "21.21762239271875\n"
     ]
    }
   ],
   "source": [
    "a=int(input('Please enter the first side of a triangle: '))\n",
    "b=int(input('Please enter the second side of a triangle: '))\n",
    "c=int(input('Please enter the third side of a triangle: '))\n",
    "\n",
    "class Traingle:\n",
    "    def __init__(self,a,b,c):\n",
    "        self.a=a\n",
    "        self.a=b\n",
    "        self.c=c\n",
    "        \n",
    "    def Area_traingle(self):\n",
    "        s=(a+b+c)/2\n",
    "        area=math.sqrt(s*(s-a)*(s-b)*(s-c))\n",
    "        return area\n",
    "    \n",
    "T=Traingle(a,b,c)\n",
    "print(T.Area_traingle())"
   ]
  },
  {
   "cell_type": "markdown",
   "metadata": {},
   "source": [
    "Q.6 Write a function filter_long_words() that takes a list of words and an integer n and returns the list\n",
    "of words that are longer than n."
   ]
  },
  {
   "cell_type": "code",
   "execution_count": 41,
   "metadata": {},
   "outputs": [
    {
     "name": "stdout",
     "output_type": "stream",
     "text": [
      "['Learning', 'Machine']\n"
     ]
    }
   ],
   "source": [
    "def filter_long_words(words, n):\n",
    "    return [word for word in words if len(word) > n]\n",
    "F=filter_long_words([\"Deep\",\"Learning\",\"Machine\"], 6)\n",
    "print(F)"
   ]
  },
  {
   "cell_type": "markdown",
   "metadata": {},
   "source": [
    "Q.7 Write a Python program using function concept that maps list of words into a list of integers\n",
    "representing the lengths of the corresponding words.\n",
    "    \n",
    "    Hint: If a list [ ab,cde,erty] is passed on to the python function output should come as [2,3,4]\n",
    "    Here 2,3 and 4 are the lengths of the words in the list."
   ]
  },
  {
   "cell_type": "code",
   "execution_count": 42,
   "metadata": {},
   "outputs": [
    {
     "name": "stdout",
     "output_type": "stream",
     "text": [
      "Length:[4, 7, 8]\n"
     ]
    }
   ],
   "source": [
    "my_val=[\"Deep\",\"Machine\",\"Learning\"]\n",
    "def len_word(my_val):\n",
    "    return list(map(lambda x:len(x),my_val))\n",
    "print(\"Length:{}\".format(len_word(my_val)))"
   ]
  },
  {
   "cell_type": "markdown",
   "metadata": {},
   "source": [
    "Q.8 Write a Python function which takes a character (i.e. a string of length 1) and returns True if it is\n",
    "a vowel, False otherwise."
   ]
  },
  {
   "cell_type": "code",
   "execution_count": 47,
   "metadata": {},
   "outputs": [
    {
     "name": "stdout",
     "output_type": "stream",
     "text": [
      "False\n",
      "True\n"
     ]
    }
   ],
   "source": [
    "def Vowel_check(my_str):\n",
    "    vowels='aeiou'\n",
    "    return my_str in vowels\n",
    "print(Vowel_check('z'))\n",
    "print(Vowel_check('a'))"
   ]
  },
  {
   "cell_type": "code",
   "execution_count": 57,
   "metadata": {},
   "outputs": [
    {
     "name": "stdout",
     "output_type": "stream",
     "text": [
      "True\n"
     ]
    }
   ],
   "source": [
    "def vowel_check(char):\n",
    "   \n",
    "    if(char=='a' or char=='e' or char=='i' or char=='o' or char=='u'):\n",
    "        return True\n",
    "    else:\n",
    "        return False\n",
    "V=vowel_check('a')\n",
    "print(V)"
   ]
  },
  {
   "cell_type": "markdown",
   "metadata": {},
   "source": [
    "## Great job!"
   ]
  }
 ],
 "metadata": {
  "kernelspec": {
   "display_name": "Python 3",
   "language": "python",
   "name": "python3"
  },
  "language_info": {
   "codemirror_mode": {
    "name": "ipython",
    "version": 3
   },
   "file_extension": ".py",
   "mimetype": "text/x-python",
   "name": "python",
   "nbconvert_exporter": "python",
   "pygments_lexer": "ipython3",
   "version": "3.7.4"
  }
 },
 "nbformat": 4,
 "nbformat_minor": 2
}
